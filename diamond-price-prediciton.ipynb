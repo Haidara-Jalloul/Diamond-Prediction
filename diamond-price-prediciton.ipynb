{
 "cells": [
  {
   "cell_type": "code",
   "execution_count": 1,
   "id": "ad13aacc",
   "metadata": {
    "execution": {
     "iopub.execute_input": "2024-06-01T19:22:32.914617Z",
     "iopub.status.busy": "2024-06-01T19:22:32.914151Z",
     "iopub.status.idle": "2024-06-01T19:22:35.601280Z",
     "shell.execute_reply": "2024-06-01T19:22:35.600423Z"
    },
    "papermill": {
     "duration": 2.698494,
     "end_time": "2024-06-01T19:22:35.603866",
     "exception": false,
     "start_time": "2024-06-01T19:22:32.905372",
     "status": "completed"
    },
    "tags": []
   },
   "outputs": [],
   "source": [
    "import numpy as np\n",
    "import pandas as pd\n",
    "import seaborn as sns\n",
    "import matplotlib.pyplot as plt\n",
    "from sklearn import metrics\n",
    "from sklearn.metrics import accuracy_score\n",
    "from sklearn.preprocessing import LabelEncoder\n",
    "from sklearn.model_selection import train_test_split, cross_val_score\n",
    "from sklearn.linear_model import LinearRegression, Ridge, Lasso\n",
    "from sklearn.tree import DecisionTreeRegressor\n",
    "from sklearn.ensemble import AdaBoostRegressor, BaggingRegressor, ExtraTreesRegressor, GradientBoostingRegressor, RandomForestRegressor\n",
    "from xgboost import XGBRegressor, XGBRFRegressor"
   ]
  },
  {
   "cell_type": "code",
   "execution_count": 2,
   "id": "1889c568",
   "metadata": {
    "_cell_guid": "b1076dfc-b9ad-4769-8c92-a6c4dae69d19",
    "_uuid": "8f2839f25d086af736a60e9eeb907d3b93b6e0e5",
    "execution": {
     "iopub.execute_input": "2024-06-01T19:22:35.618812Z",
     "iopub.status.busy": "2024-06-01T19:22:35.618315Z",
     "iopub.status.idle": "2024-06-01T19:22:35.719025Z",
     "shell.execute_reply": "2024-06-01T19:22:35.717960Z"
    },
    "papermill": {
     "duration": 0.110914,
     "end_time": "2024-06-01T19:22:35.721544",
     "exception": false,
     "start_time": "2024-06-01T19:22:35.610630",
     "status": "completed"
    },
    "tags": []
   },
   "outputs": [],
   "source": [
    "diamond_train = pd.read_csv('/kaggle/input/diamond-price-perdiction/train.csv')"
   ]
  },
  {
   "cell_type": "code",
   "execution_count": 3,
   "id": "283dd7ce",
   "metadata": {
    "execution": {
     "iopub.execute_input": "2024-06-01T19:22:35.736530Z",
     "iopub.status.busy": "2024-06-01T19:22:35.736148Z",
     "iopub.status.idle": "2024-06-01T19:22:35.763662Z",
     "shell.execute_reply": "2024-06-01T19:22:35.762560Z"
    },
    "papermill": {
     "duration": 0.037729,
     "end_time": "2024-06-01T19:22:35.766091",
     "exception": false,
     "start_time": "2024-06-01T19:22:35.728362",
     "status": "completed"
    },
    "tags": []
   },
   "outputs": [
    {
     "data": {
      "text/html": [
       "<div>\n",
       "<style scoped>\n",
       "    .dataframe tbody tr th:only-of-type {\n",
       "        vertical-align: middle;\n",
       "    }\n",
       "\n",
       "    .dataframe tbody tr th {\n",
       "        vertical-align: top;\n",
       "    }\n",
       "\n",
       "    .dataframe thead th {\n",
       "        text-align: right;\n",
       "    }\n",
       "</style>\n",
       "<table border=\"1\" class=\"dataframe\">\n",
       "  <thead>\n",
       "    <tr style=\"text-align: right;\">\n",
       "      <th></th>\n",
       "      <th>Id</th>\n",
       "      <th>carat</th>\n",
       "      <th>cut</th>\n",
       "      <th>color</th>\n",
       "      <th>clarity</th>\n",
       "      <th>depth</th>\n",
       "      <th>table</th>\n",
       "      <th>price</th>\n",
       "      <th>x</th>\n",
       "      <th>y</th>\n",
       "      <th>z</th>\n",
       "    </tr>\n",
       "  </thead>\n",
       "  <tbody>\n",
       "    <tr>\n",
       "      <th>0</th>\n",
       "      <td>1</td>\n",
       "      <td>1.06</td>\n",
       "      <td>Ideal</td>\n",
       "      <td>I</td>\n",
       "      <td>SI2</td>\n",
       "      <td>61.8</td>\n",
       "      <td>57.0</td>\n",
       "      <td>4270</td>\n",
       "      <td>6.57</td>\n",
       "      <td>6.60</td>\n",
       "      <td>4.07</td>\n",
       "    </tr>\n",
       "    <tr>\n",
       "      <th>1</th>\n",
       "      <td>2</td>\n",
       "      <td>1.51</td>\n",
       "      <td>Premium</td>\n",
       "      <td>G</td>\n",
       "      <td>VVS2</td>\n",
       "      <td>60.9</td>\n",
       "      <td>58.0</td>\n",
       "      <td>15164</td>\n",
       "      <td>7.38</td>\n",
       "      <td>7.42</td>\n",
       "      <td>4.51</td>\n",
       "    </tr>\n",
       "    <tr>\n",
       "      <th>2</th>\n",
       "      <td>3</td>\n",
       "      <td>0.32</td>\n",
       "      <td>Ideal</td>\n",
       "      <td>F</td>\n",
       "      <td>VS2</td>\n",
       "      <td>61.3</td>\n",
       "      <td>56.0</td>\n",
       "      <td>828</td>\n",
       "      <td>4.43</td>\n",
       "      <td>4.41</td>\n",
       "      <td>2.71</td>\n",
       "    </tr>\n",
       "    <tr>\n",
       "      <th>3</th>\n",
       "      <td>4</td>\n",
       "      <td>0.53</td>\n",
       "      <td>Ideal</td>\n",
       "      <td>G</td>\n",
       "      <td>VS2</td>\n",
       "      <td>61.2</td>\n",
       "      <td>56.0</td>\n",
       "      <td>1577</td>\n",
       "      <td>5.19</td>\n",
       "      <td>5.22</td>\n",
       "      <td>3.19</td>\n",
       "    </tr>\n",
       "    <tr>\n",
       "      <th>4</th>\n",
       "      <td>5</td>\n",
       "      <td>0.70</td>\n",
       "      <td>Premium</td>\n",
       "      <td>H</td>\n",
       "      <td>VVS2</td>\n",
       "      <td>61.0</td>\n",
       "      <td>57.0</td>\n",
       "      <td>2596</td>\n",
       "      <td>5.76</td>\n",
       "      <td>5.72</td>\n",
       "      <td>3.50</td>\n",
       "    </tr>\n",
       "  </tbody>\n",
       "</table>\n",
       "</div>"
      ],
      "text/plain": [
       "   Id  carat      cut color clarity  depth  table  price     x     y     z\n",
       "0   1   1.06    Ideal     I     SI2   61.8   57.0   4270  6.57  6.60  4.07\n",
       "1   2   1.51  Premium     G    VVS2   60.9   58.0  15164  7.38  7.42  4.51\n",
       "2   3   0.32    Ideal     F     VS2   61.3   56.0    828  4.43  4.41  2.71\n",
       "3   4   0.53    Ideal     G     VS2   61.2   56.0   1577  5.19  5.22  3.19\n",
       "4   5   0.70  Premium     H    VVS2   61.0   57.0   2596  5.76  5.72  3.50"
      ]
     },
     "execution_count": 3,
     "metadata": {},
     "output_type": "execute_result"
    }
   ],
   "source": [
    "diamond_train.head()"
   ]
  },
  {
   "cell_type": "code",
   "execution_count": 4,
   "id": "210df70b",
   "metadata": {
    "execution": {
     "iopub.execute_input": "2024-06-01T19:22:35.781664Z",
     "iopub.status.busy": "2024-06-01T19:22:35.781290Z",
     "iopub.status.idle": "2024-06-01T19:22:35.787629Z",
     "shell.execute_reply": "2024-06-01T19:22:35.786684Z"
    },
    "papermill": {
     "duration": 0.016714,
     "end_time": "2024-06-01T19:22:35.789749",
     "exception": false,
     "start_time": "2024-06-01T19:22:35.773035",
     "status": "completed"
    },
    "tags": []
   },
   "outputs": [
    {
     "data": {
      "text/plain": [
       "(43152, 11)"
      ]
     },
     "execution_count": 4,
     "metadata": {},
     "output_type": "execute_result"
    }
   ],
   "source": [
    "diamond_train.shape"
   ]
  },
  {
   "cell_type": "code",
   "execution_count": 5,
   "id": "368d4f18",
   "metadata": {
    "execution": {
     "iopub.execute_input": "2024-06-01T19:22:35.805244Z",
     "iopub.status.busy": "2024-06-01T19:22:35.804359Z",
     "iopub.status.idle": "2024-06-01T19:22:35.811532Z",
     "shell.execute_reply": "2024-06-01T19:22:35.810600Z"
    },
    "papermill": {
     "duration": 0.017056,
     "end_time": "2024-06-01T19:22:35.813509",
     "exception": false,
     "start_time": "2024-06-01T19:22:35.796453",
     "status": "completed"
    },
    "tags": []
   },
   "outputs": [
    {
     "data": {
      "text/plain": [
       "Index(['Id', 'carat', 'cut', 'color', 'clarity', 'depth', 'table', 'price',\n",
       "       'x', 'y', 'z'],\n",
       "      dtype='object')"
      ]
     },
     "execution_count": 5,
     "metadata": {},
     "output_type": "execute_result"
    }
   ],
   "source": [
    "diamond_train.columns"
   ]
  },
  {
   "cell_type": "code",
   "execution_count": 6,
   "id": "10071c8e",
   "metadata": {
    "execution": {
     "iopub.execute_input": "2024-06-01T19:22:35.828810Z",
     "iopub.status.busy": "2024-06-01T19:22:35.828432Z",
     "iopub.status.idle": "2024-06-01T19:22:35.856944Z",
     "shell.execute_reply": "2024-06-01T19:22:35.855766Z"
    },
    "papermill": {
     "duration": 0.03886,
     "end_time": "2024-06-01T19:22:35.859232",
     "exception": false,
     "start_time": "2024-06-01T19:22:35.820372",
     "status": "completed"
    },
    "tags": []
   },
   "outputs": [
    {
     "name": "stdout",
     "output_type": "stream",
     "text": [
      "<class 'pandas.core.frame.DataFrame'>\n",
      "RangeIndex: 43152 entries, 0 to 43151\n",
      "Data columns (total 11 columns):\n",
      " #   Column   Non-Null Count  Dtype  \n",
      "---  ------   --------------  -----  \n",
      " 0   Id       43152 non-null  int64  \n",
      " 1   carat    43152 non-null  float64\n",
      " 2   cut      43152 non-null  object \n",
      " 3   color    43152 non-null  object \n",
      " 4   clarity  43152 non-null  object \n",
      " 5   depth    43152 non-null  float64\n",
      " 6   table    43152 non-null  float64\n",
      " 7   price    43152 non-null  int64  \n",
      " 8   x        43152 non-null  float64\n",
      " 9   y        43152 non-null  float64\n",
      " 10  z        43152 non-null  float64\n",
      "dtypes: float64(6), int64(2), object(3)\n",
      "memory usage: 3.6+ MB\n"
     ]
    }
   ],
   "source": [
    "diamond_train.info()"
   ]
  },
  {
   "cell_type": "code",
   "execution_count": 7,
   "id": "01b1b691",
   "metadata": {
    "execution": {
     "iopub.execute_input": "2024-06-01T19:22:35.876667Z",
     "iopub.status.busy": "2024-06-01T19:22:35.875894Z",
     "iopub.status.idle": "2024-06-01T19:22:35.924074Z",
     "shell.execute_reply": "2024-06-01T19:22:35.923070Z"
    },
    "papermill": {
     "duration": 0.059754,
     "end_time": "2024-06-01T19:22:35.926210",
     "exception": false,
     "start_time": "2024-06-01T19:22:35.866456",
     "status": "completed"
    },
    "tags": []
   },
   "outputs": [
    {
     "data": {
      "text/html": [
       "<div>\n",
       "<style scoped>\n",
       "    .dataframe tbody tr th:only-of-type {\n",
       "        vertical-align: middle;\n",
       "    }\n",
       "\n",
       "    .dataframe tbody tr th {\n",
       "        vertical-align: top;\n",
       "    }\n",
       "\n",
       "    .dataframe thead th {\n",
       "        text-align: right;\n",
       "    }\n",
       "</style>\n",
       "<table border=\"1\" class=\"dataframe\">\n",
       "  <thead>\n",
       "    <tr style=\"text-align: right;\">\n",
       "      <th></th>\n",
       "      <th>Id</th>\n",
       "      <th>carat</th>\n",
       "      <th>depth</th>\n",
       "      <th>table</th>\n",
       "      <th>price</th>\n",
       "      <th>x</th>\n",
       "      <th>y</th>\n",
       "      <th>z</th>\n",
       "    </tr>\n",
       "  </thead>\n",
       "  <tbody>\n",
       "    <tr>\n",
       "      <th>count</th>\n",
       "      <td>43152.000000</td>\n",
       "      <td>43152.000000</td>\n",
       "      <td>43152.000000</td>\n",
       "      <td>43152.000000</td>\n",
       "      <td>43152.000000</td>\n",
       "      <td>43152.000000</td>\n",
       "      <td>43152.000000</td>\n",
       "      <td>43152.000000</td>\n",
       "    </tr>\n",
       "    <tr>\n",
       "      <th>mean</th>\n",
       "      <td>21576.500000</td>\n",
       "      <td>0.797855</td>\n",
       "      <td>61.747177</td>\n",
       "      <td>57.458347</td>\n",
       "      <td>3929.491912</td>\n",
       "      <td>5.731568</td>\n",
       "      <td>5.735018</td>\n",
       "      <td>3.538568</td>\n",
       "    </tr>\n",
       "    <tr>\n",
       "      <th>std</th>\n",
       "      <td>12457.053745</td>\n",
       "      <td>0.473594</td>\n",
       "      <td>1.435454</td>\n",
       "      <td>2.233904</td>\n",
       "      <td>3985.527795</td>\n",
       "      <td>1.121279</td>\n",
       "      <td>1.148809</td>\n",
       "      <td>0.708238</td>\n",
       "    </tr>\n",
       "    <tr>\n",
       "      <th>min</th>\n",
       "      <td>1.000000</td>\n",
       "      <td>0.200000</td>\n",
       "      <td>43.000000</td>\n",
       "      <td>43.000000</td>\n",
       "      <td>326.000000</td>\n",
       "      <td>0.000000</td>\n",
       "      <td>0.000000</td>\n",
       "      <td>0.000000</td>\n",
       "    </tr>\n",
       "    <tr>\n",
       "      <th>25%</th>\n",
       "      <td>10788.750000</td>\n",
       "      <td>0.400000</td>\n",
       "      <td>61.000000</td>\n",
       "      <td>56.000000</td>\n",
       "      <td>947.750000</td>\n",
       "      <td>4.710000</td>\n",
       "      <td>4.720000</td>\n",
       "      <td>2.910000</td>\n",
       "    </tr>\n",
       "    <tr>\n",
       "      <th>50%</th>\n",
       "      <td>21576.500000</td>\n",
       "      <td>0.700000</td>\n",
       "      <td>61.800000</td>\n",
       "      <td>57.000000</td>\n",
       "      <td>2401.000000</td>\n",
       "      <td>5.700000</td>\n",
       "      <td>5.710000</td>\n",
       "      <td>3.530000</td>\n",
       "    </tr>\n",
       "    <tr>\n",
       "      <th>75%</th>\n",
       "      <td>32364.250000</td>\n",
       "      <td>1.040000</td>\n",
       "      <td>62.500000</td>\n",
       "      <td>59.000000</td>\n",
       "      <td>5312.000000</td>\n",
       "      <td>6.540000</td>\n",
       "      <td>6.540000</td>\n",
       "      <td>4.040000</td>\n",
       "    </tr>\n",
       "    <tr>\n",
       "      <th>max</th>\n",
       "      <td>43152.000000</td>\n",
       "      <td>5.010000</td>\n",
       "      <td>79.000000</td>\n",
       "      <td>95.000000</td>\n",
       "      <td>18823.000000</td>\n",
       "      <td>10.740000</td>\n",
       "      <td>58.900000</td>\n",
       "      <td>31.800000</td>\n",
       "    </tr>\n",
       "  </tbody>\n",
       "</table>\n",
       "</div>"
      ],
      "text/plain": [
       "                 Id         carat         depth         table         price  \\\n",
       "count  43152.000000  43152.000000  43152.000000  43152.000000  43152.000000   \n",
       "mean   21576.500000      0.797855     61.747177     57.458347   3929.491912   \n",
       "std    12457.053745      0.473594      1.435454      2.233904   3985.527795   \n",
       "min        1.000000      0.200000     43.000000     43.000000    326.000000   \n",
       "25%    10788.750000      0.400000     61.000000     56.000000    947.750000   \n",
       "50%    21576.500000      0.700000     61.800000     57.000000   2401.000000   \n",
       "75%    32364.250000      1.040000     62.500000     59.000000   5312.000000   \n",
       "max    43152.000000      5.010000     79.000000     95.000000  18823.000000   \n",
       "\n",
       "                  x             y             z  \n",
       "count  43152.000000  43152.000000  43152.000000  \n",
       "mean       5.731568      5.735018      3.538568  \n",
       "std        1.121279      1.148809      0.708238  \n",
       "min        0.000000      0.000000      0.000000  \n",
       "25%        4.710000      4.720000      2.910000  \n",
       "50%        5.700000      5.710000      3.530000  \n",
       "75%        6.540000      6.540000      4.040000  \n",
       "max       10.740000     58.900000     31.800000  "
      ]
     },
     "execution_count": 7,
     "metadata": {},
     "output_type": "execute_result"
    }
   ],
   "source": [
    "diamond_train.describe()"
   ]
  },
  {
   "cell_type": "code",
   "execution_count": 8,
   "id": "338e9bad",
   "metadata": {
    "execution": {
     "iopub.execute_input": "2024-06-01T19:22:35.942239Z",
     "iopub.status.busy": "2024-06-01T19:22:35.941884Z",
     "iopub.status.idle": "2024-06-01T19:22:35.956425Z",
     "shell.execute_reply": "2024-06-01T19:22:35.955464Z"
    },
    "papermill": {
     "duration": 0.024895,
     "end_time": "2024-06-01T19:22:35.958567",
     "exception": false,
     "start_time": "2024-06-01T19:22:35.933672",
     "status": "completed"
    },
    "tags": []
   },
   "outputs": [
    {
     "data": {
      "text/plain": [
       "Id         0\n",
       "carat      0\n",
       "cut        0\n",
       "color      0\n",
       "clarity    0\n",
       "depth      0\n",
       "table      0\n",
       "price      0\n",
       "x          0\n",
       "y          0\n",
       "z          0\n",
       "dtype: int64"
      ]
     },
     "execution_count": 8,
     "metadata": {},
     "output_type": "execute_result"
    }
   ],
   "source": [
    "diamond_train.isnull().sum()"
   ]
  },
  {
   "cell_type": "code",
   "execution_count": 9,
   "id": "4f44046e",
   "metadata": {
    "execution": {
     "iopub.execute_input": "2024-06-01T19:22:35.975086Z",
     "iopub.status.busy": "2024-06-01T19:22:35.974237Z",
     "iopub.status.idle": "2024-06-01T19:22:35.980192Z",
     "shell.execute_reply": "2024-06-01T19:22:35.979219Z"
    },
    "papermill": {
     "duration": 0.016409,
     "end_time": "2024-06-01T19:22:35.982282",
     "exception": false,
     "start_time": "2024-06-01T19:22:35.965873",
     "status": "completed"
    },
    "tags": []
   },
   "outputs": [],
   "source": [
    "# function to remove outlires\n",
    "def remove_outlires(df):\n",
    "    q1 = df.quantile(0.25)\n",
    "    q3 = df.quantile(0.75)\n",
    "    IQR = q3 - q1\n",
    "    outlires = df[~((df<(q1-1.5*IQR)) | (df>(q3+1.5*IQR)))]\n",
    "    new_df = outlires.dropna().reset_index()\n",
    "    return new_df"
   ]
  },
  {
   "cell_type": "code",
   "execution_count": 10,
   "id": "2f757bd2",
   "metadata": {
    "execution": {
     "iopub.execute_input": "2024-06-01T19:22:35.998643Z",
     "iopub.status.busy": "2024-06-01T19:22:35.997812Z",
     "iopub.status.idle": "2024-06-01T19:22:36.020656Z",
     "shell.execute_reply": "2024-06-01T19:22:36.019470Z"
    },
    "papermill": {
     "duration": 0.0333,
     "end_time": "2024-06-01T19:22:36.022931",
     "exception": false,
     "start_time": "2024-06-01T19:22:35.989631",
     "status": "completed"
    },
    "tags": []
   },
   "outputs": [
    {
     "data": {
      "text/html": [
       "<div>\n",
       "<style scoped>\n",
       "    .dataframe tbody tr th:only-of-type {\n",
       "        vertical-align: middle;\n",
       "    }\n",
       "\n",
       "    .dataframe tbody tr th {\n",
       "        vertical-align: top;\n",
       "    }\n",
       "\n",
       "    .dataframe thead th {\n",
       "        text-align: right;\n",
       "    }\n",
       "</style>\n",
       "<table border=\"1\" class=\"dataframe\">\n",
       "  <thead>\n",
       "    <tr style=\"text-align: right;\">\n",
       "      <th></th>\n",
       "      <th>Id</th>\n",
       "      <th>carat</th>\n",
       "      <th>cut</th>\n",
       "      <th>color</th>\n",
       "      <th>clarity</th>\n",
       "      <th>depth</th>\n",
       "      <th>table</th>\n",
       "      <th>price</th>\n",
       "      <th>volume</th>\n",
       "    </tr>\n",
       "  </thead>\n",
       "  <tbody>\n",
       "    <tr>\n",
       "      <th>0</th>\n",
       "      <td>1</td>\n",
       "      <td>1.06</td>\n",
       "      <td>Ideal</td>\n",
       "      <td>I</td>\n",
       "      <td>SI2</td>\n",
       "      <td>61.8</td>\n",
       "      <td>57.0</td>\n",
       "      <td>4270</td>\n",
       "      <td>176.483340</td>\n",
       "    </tr>\n",
       "    <tr>\n",
       "      <th>1</th>\n",
       "      <td>2</td>\n",
       "      <td>1.51</td>\n",
       "      <td>Premium</td>\n",
       "      <td>G</td>\n",
       "      <td>VVS2</td>\n",
       "      <td>60.9</td>\n",
       "      <td>58.0</td>\n",
       "      <td>15164</td>\n",
       "      <td>246.965796</td>\n",
       "    </tr>\n",
       "    <tr>\n",
       "      <th>2</th>\n",
       "      <td>3</td>\n",
       "      <td>0.32</td>\n",
       "      <td>Ideal</td>\n",
       "      <td>F</td>\n",
       "      <td>VS2</td>\n",
       "      <td>61.3</td>\n",
       "      <td>56.0</td>\n",
       "      <td>828</td>\n",
       "      <td>52.943373</td>\n",
       "    </tr>\n",
       "    <tr>\n",
       "      <th>3</th>\n",
       "      <td>4</td>\n",
       "      <td>0.53</td>\n",
       "      <td>Ideal</td>\n",
       "      <td>G</td>\n",
       "      <td>VS2</td>\n",
       "      <td>61.2</td>\n",
       "      <td>56.0</td>\n",
       "      <td>1577</td>\n",
       "      <td>86.422842</td>\n",
       "    </tr>\n",
       "    <tr>\n",
       "      <th>4</th>\n",
       "      <td>5</td>\n",
       "      <td>0.70</td>\n",
       "      <td>Premium</td>\n",
       "      <td>H</td>\n",
       "      <td>VVS2</td>\n",
       "      <td>61.0</td>\n",
       "      <td>57.0</td>\n",
       "      <td>2596</td>\n",
       "      <td>115.315200</td>\n",
       "    </tr>\n",
       "  </tbody>\n",
       "</table>\n",
       "</div>"
      ],
      "text/plain": [
       "   Id  carat      cut color clarity  depth  table  price      volume\n",
       "0   1   1.06    Ideal     I     SI2   61.8   57.0   4270  176.483340\n",
       "1   2   1.51  Premium     G    VVS2   60.9   58.0  15164  246.965796\n",
       "2   3   0.32    Ideal     F     VS2   61.3   56.0    828   52.943373\n",
       "3   4   0.53    Ideal     G     VS2   61.2   56.0   1577   86.422842\n",
       "4   5   0.70  Premium     H    VVS2   61.0   57.0   2596  115.315200"
      ]
     },
     "execution_count": 10,
     "metadata": {},
     "output_type": "execute_result"
    }
   ],
   "source": [
    "# Get new feature 'volume' by multiply the dimensions x, y and z\n",
    "diamond_train['volume'] = diamond_train['x'] * diamond_train['y'] * diamond_train['z']\n",
    "diamond_train = diamond_train.drop(['x','y','z'], axis=1)\n",
    "diamond_train.head()"
   ]
  },
  {
   "cell_type": "code",
   "execution_count": 11,
   "id": "1730c2df",
   "metadata": {
    "execution": {
     "iopub.execute_input": "2024-06-01T19:22:36.039853Z",
     "iopub.status.busy": "2024-06-01T19:22:36.039146Z",
     "iopub.status.idle": "2024-06-01T19:22:36.048173Z",
     "shell.execute_reply": "2024-06-01T19:22:36.047433Z"
    },
    "papermill": {
     "duration": 0.019744,
     "end_time": "2024-06-01T19:22:36.050207",
     "exception": false,
     "start_time": "2024-06-01T19:22:36.030463",
     "status": "completed"
    },
    "tags": []
   },
   "outputs": [],
   "source": [
    "# delete the rows that has volume = 0\n",
    "diamond_train = diamond_train.drop(diamond_train.index[diamond_train['volume'] == 0], axis=0)"
   ]
  },
  {
   "cell_type": "code",
   "execution_count": 12,
   "id": "050fedea",
   "metadata": {
    "execution": {
     "iopub.execute_input": "2024-06-01T19:22:36.067324Z",
     "iopub.status.busy": "2024-06-01T19:22:36.066444Z",
     "iopub.status.idle": "2024-06-01T19:22:36.106623Z",
     "shell.execute_reply": "2024-06-01T19:22:36.105382Z"
    },
    "papermill": {
     "duration": 0.051519,
     "end_time": "2024-06-01T19:22:36.109335",
     "exception": false,
     "start_time": "2024-06-01T19:22:36.057816",
     "status": "completed"
    },
    "tags": []
   },
   "outputs": [],
   "source": [
    "# convert the non-numerical columns to numerical columns\n",
    "categorical_columns = diamond_train.select_dtypes(exclude  =['number']).columns.tolist()\n",
    "diamondCopy = diamond_train.copy()\n",
    "labelEncoder = LabelEncoder()\n",
    "for col in categorical_columns:\n",
    "    diamondCopy[col] = labelEncoder.fit_transform(diamondCopy[col])"
   ]
  },
  {
   "cell_type": "code",
   "execution_count": 13,
   "id": "55d5467a",
   "metadata": {
    "execution": {
     "iopub.execute_input": "2024-06-01T19:22:36.127555Z",
     "iopub.status.busy": "2024-06-01T19:22:36.126702Z",
     "iopub.status.idle": "2024-06-01T19:22:36.164318Z",
     "shell.execute_reply": "2024-06-01T19:22:36.163228Z"
    },
    "papermill": {
     "duration": 0.049314,
     "end_time": "2024-06-01T19:22:36.166878",
     "exception": false,
     "start_time": "2024-06-01T19:22:36.117564",
     "status": "completed"
    },
    "tags": []
   },
   "outputs": [],
   "source": [
    "diamondCopy = remove_outlires(diamondCopy)"
   ]
  },
  {
   "cell_type": "code",
   "execution_count": 14,
   "id": "9ee7d121",
   "metadata": {
    "execution": {
     "iopub.execute_input": "2024-06-01T19:22:36.183938Z",
     "iopub.status.busy": "2024-06-01T19:22:36.183568Z",
     "iopub.status.idle": "2024-06-01T19:22:36.198333Z",
     "shell.execute_reply": "2024-06-01T19:22:36.197404Z"
    },
    "papermill": {
     "duration": 0.025784,
     "end_time": "2024-06-01T19:22:36.200475",
     "exception": false,
     "start_time": "2024-06-01T19:22:36.174691",
     "status": "completed"
    },
    "tags": []
   },
   "outputs": [
    {
     "data": {
      "text/html": [
       "<div>\n",
       "<style scoped>\n",
       "    .dataframe tbody tr th:only-of-type {\n",
       "        vertical-align: middle;\n",
       "    }\n",
       "\n",
       "    .dataframe tbody tr th {\n",
       "        vertical-align: top;\n",
       "    }\n",
       "\n",
       "    .dataframe thead th {\n",
       "        text-align: right;\n",
       "    }\n",
       "</style>\n",
       "<table border=\"1\" class=\"dataframe\">\n",
       "  <thead>\n",
       "    <tr style=\"text-align: right;\">\n",
       "      <th></th>\n",
       "      <th>index</th>\n",
       "      <th>Id</th>\n",
       "      <th>carat</th>\n",
       "      <th>cut</th>\n",
       "      <th>color</th>\n",
       "      <th>clarity</th>\n",
       "      <th>depth</th>\n",
       "      <th>table</th>\n",
       "      <th>price</th>\n",
       "      <th>volume</th>\n",
       "    </tr>\n",
       "  </thead>\n",
       "  <tbody>\n",
       "    <tr>\n",
       "      <th>0</th>\n",
       "      <td>0</td>\n",
       "      <td>1</td>\n",
       "      <td>1.06</td>\n",
       "      <td>2.0</td>\n",
       "      <td>5</td>\n",
       "      <td>3</td>\n",
       "      <td>61.8</td>\n",
       "      <td>57.0</td>\n",
       "      <td>4270.0</td>\n",
       "      <td>176.483340</td>\n",
       "    </tr>\n",
       "    <tr>\n",
       "      <th>1</th>\n",
       "      <td>2</td>\n",
       "      <td>3</td>\n",
       "      <td>0.32</td>\n",
       "      <td>2.0</td>\n",
       "      <td>2</td>\n",
       "      <td>5</td>\n",
       "      <td>61.3</td>\n",
       "      <td>56.0</td>\n",
       "      <td>828.0</td>\n",
       "      <td>52.943373</td>\n",
       "    </tr>\n",
       "    <tr>\n",
       "      <th>2</th>\n",
       "      <td>3</td>\n",
       "      <td>4</td>\n",
       "      <td>0.53</td>\n",
       "      <td>2.0</td>\n",
       "      <td>3</td>\n",
       "      <td>5</td>\n",
       "      <td>61.2</td>\n",
       "      <td>56.0</td>\n",
       "      <td>1577.0</td>\n",
       "      <td>86.422842</td>\n",
       "    </tr>\n",
       "    <tr>\n",
       "      <th>3</th>\n",
       "      <td>4</td>\n",
       "      <td>5</td>\n",
       "      <td>0.70</td>\n",
       "      <td>3.0</td>\n",
       "      <td>4</td>\n",
       "      <td>7</td>\n",
       "      <td>61.0</td>\n",
       "      <td>57.0</td>\n",
       "      <td>2596.0</td>\n",
       "      <td>115.315200</td>\n",
       "    </tr>\n",
       "    <tr>\n",
       "      <th>4</th>\n",
       "      <td>5</td>\n",
       "      <td>6</td>\n",
       "      <td>0.90</td>\n",
       "      <td>4.0</td>\n",
       "      <td>3</td>\n",
       "      <td>1</td>\n",
       "      <td>63.1</td>\n",
       "      <td>58.0</td>\n",
       "      <td>5670.0</td>\n",
       "      <td>145.652094</td>\n",
       "    </tr>\n",
       "  </tbody>\n",
       "</table>\n",
       "</div>"
      ],
      "text/plain": [
       "   index  Id  carat  cut  color  clarity  depth  table   price      volume\n",
       "0      0   1   1.06  2.0      5        3   61.8   57.0  4270.0  176.483340\n",
       "1      2   3   0.32  2.0      2        5   61.3   56.0   828.0   52.943373\n",
       "2      3   4   0.53  2.0      3        5   61.2   56.0  1577.0   86.422842\n",
       "3      4   5   0.70  3.0      4        7   61.0   57.0  2596.0  115.315200\n",
       "4      5   6   0.90  4.0      3        1   63.1   58.0  5670.0  145.652094"
      ]
     },
     "execution_count": 14,
     "metadata": {},
     "output_type": "execute_result"
    }
   ],
   "source": [
    "diamondCopy.head()"
   ]
  },
  {
   "cell_type": "code",
   "execution_count": 15,
   "id": "71941f3d",
   "metadata": {
    "execution": {
     "iopub.execute_input": "2024-06-01T19:22:36.217419Z",
     "iopub.status.busy": "2024-06-01T19:22:36.217071Z",
     "iopub.status.idle": "2024-06-01T19:22:36.223284Z",
     "shell.execute_reply": "2024-06-01T19:22:36.222265Z"
    },
    "papermill": {
     "duration": 0.017197,
     "end_time": "2024-06-01T19:22:36.225430",
     "exception": false,
     "start_time": "2024-06-01T19:22:36.208233",
     "status": "completed"
    },
    "tags": []
   },
   "outputs": [
    {
     "data": {
      "text/plain": [
       "(37727, 10)"
      ]
     },
     "execution_count": 15,
     "metadata": {},
     "output_type": "execute_result"
    }
   ],
   "source": [
    "diamondCopy.shape"
   ]
  },
  {
   "cell_type": "code",
   "execution_count": 16,
   "id": "14f83dad",
   "metadata": {
    "execution": {
     "iopub.execute_input": "2024-06-01T19:22:36.244302Z",
     "iopub.status.busy": "2024-06-01T19:22:36.243382Z",
     "iopub.status.idle": "2024-06-01T19:22:36.273613Z",
     "shell.execute_reply": "2024-06-01T19:22:36.272540Z"
    },
    "papermill": {
     "duration": 0.041782,
     "end_time": "2024-06-01T19:22:36.275917",
     "exception": false,
     "start_time": "2024-06-01T19:22:36.234135",
     "status": "completed"
    },
    "tags": []
   },
   "outputs": [
    {
     "data": {
      "text/html": [
       "<div>\n",
       "<style scoped>\n",
       "    .dataframe tbody tr th:only-of-type {\n",
       "        vertical-align: middle;\n",
       "    }\n",
       "\n",
       "    .dataframe tbody tr th {\n",
       "        vertical-align: top;\n",
       "    }\n",
       "\n",
       "    .dataframe thead th {\n",
       "        text-align: right;\n",
       "    }\n",
       "</style>\n",
       "<table border=\"1\" class=\"dataframe\">\n",
       "  <thead>\n",
       "    <tr style=\"text-align: right;\">\n",
       "      <th></th>\n",
       "      <th>index</th>\n",
       "      <th>Id</th>\n",
       "      <th>carat</th>\n",
       "      <th>cut</th>\n",
       "      <th>color</th>\n",
       "      <th>clarity</th>\n",
       "      <th>depth</th>\n",
       "      <th>table</th>\n",
       "      <th>price</th>\n",
       "      <th>volume</th>\n",
       "    </tr>\n",
       "  </thead>\n",
       "  <tbody>\n",
       "    <tr>\n",
       "      <th>index</th>\n",
       "      <td>1.000000</td>\n",
       "      <td>1.000000</td>\n",
       "      <td>-0.004791</td>\n",
       "      <td>0.003620</td>\n",
       "      <td>-0.015818</td>\n",
       "      <td>-0.002308</td>\n",
       "      <td>0.000120</td>\n",
       "      <td>-0.003130</td>\n",
       "      <td>-0.003709</td>\n",
       "      <td>-0.004891</td>\n",
       "    </tr>\n",
       "    <tr>\n",
       "      <th>Id</th>\n",
       "      <td>1.000000</td>\n",
       "      <td>1.000000</td>\n",
       "      <td>-0.004791</td>\n",
       "      <td>0.003620</td>\n",
       "      <td>-0.015818</td>\n",
       "      <td>-0.002308</td>\n",
       "      <td>0.000120</td>\n",
       "      <td>-0.003130</td>\n",
       "      <td>-0.003709</td>\n",
       "      <td>-0.004891</td>\n",
       "    </tr>\n",
       "    <tr>\n",
       "      <th>carat</th>\n",
       "      <td>-0.004791</td>\n",
       "      <td>-0.004791</td>\n",
       "      <td>1.000000</td>\n",
       "      <td>0.075299</td>\n",
       "      <td>0.258047</td>\n",
       "      <td>-0.214234</td>\n",
       "      <td>0.026540</td>\n",
       "      <td>0.187167</td>\n",
       "      <td>0.923338</td>\n",
       "      <td>0.998886</td>\n",
       "    </tr>\n",
       "    <tr>\n",
       "      <th>cut</th>\n",
       "      <td>0.003620</td>\n",
       "      <td>0.003620</td>\n",
       "      <td>0.075299</td>\n",
       "      <td>1.000000</td>\n",
       "      <td>0.006561</td>\n",
       "      <td>-0.011004</td>\n",
       "      <td>-0.146659</td>\n",
       "      <td>0.323812</td>\n",
       "      <td>0.059237</td>\n",
       "      <td>0.073413</td>\n",
       "    </tr>\n",
       "    <tr>\n",
       "      <th>color</th>\n",
       "      <td>-0.015818</td>\n",
       "      <td>-0.015818</td>\n",
       "      <td>0.258047</td>\n",
       "      <td>0.006561</td>\n",
       "      <td>1.000000</td>\n",
       "      <td>-0.013422</td>\n",
       "      <td>0.044923</td>\n",
       "      <td>0.016188</td>\n",
       "      <td>0.140857</td>\n",
       "      <td>0.257697</td>\n",
       "    </tr>\n",
       "    <tr>\n",
       "      <th>clarity</th>\n",
       "      <td>-0.002308</td>\n",
       "      <td>-0.002308</td>\n",
       "      <td>-0.214234</td>\n",
       "      <td>-0.011004</td>\n",
       "      <td>-0.013422</td>\n",
       "      <td>1.000000</td>\n",
       "      <td>-0.037651</td>\n",
       "      <td>-0.078063</td>\n",
       "      <td>-0.065860</td>\n",
       "      <td>-0.212619</td>\n",
       "    </tr>\n",
       "    <tr>\n",
       "      <th>depth</th>\n",
       "      <td>0.000120</td>\n",
       "      <td>0.000120</td>\n",
       "      <td>0.026540</td>\n",
       "      <td>-0.146659</td>\n",
       "      <td>0.044923</td>\n",
       "      <td>-0.037651</td>\n",
       "      <td>1.000000</td>\n",
       "      <td>-0.252210</td>\n",
       "      <td>0.001892</td>\n",
       "      <td>0.012075</td>\n",
       "    </tr>\n",
       "    <tr>\n",
       "      <th>table</th>\n",
       "      <td>-0.003130</td>\n",
       "      <td>-0.003130</td>\n",
       "      <td>0.187167</td>\n",
       "      <td>0.323812</td>\n",
       "      <td>0.016188</td>\n",
       "      <td>-0.078063</td>\n",
       "      <td>-0.252210</td>\n",
       "      <td>1.000000</td>\n",
       "      <td>0.137448</td>\n",
       "      <td>0.174986</td>\n",
       "    </tr>\n",
       "    <tr>\n",
       "      <th>price</th>\n",
       "      <td>-0.003709</td>\n",
       "      <td>-0.003709</td>\n",
       "      <td>0.923338</td>\n",
       "      <td>0.059237</td>\n",
       "      <td>0.140857</td>\n",
       "      <td>-0.065860</td>\n",
       "      <td>0.001892</td>\n",
       "      <td>0.137448</td>\n",
       "      <td>1.000000</td>\n",
       "      <td>0.924256</td>\n",
       "    </tr>\n",
       "    <tr>\n",
       "      <th>volume</th>\n",
       "      <td>-0.004891</td>\n",
       "      <td>-0.004891</td>\n",
       "      <td>0.998886</td>\n",
       "      <td>0.073413</td>\n",
       "      <td>0.257697</td>\n",
       "      <td>-0.212619</td>\n",
       "      <td>0.012075</td>\n",
       "      <td>0.174986</td>\n",
       "      <td>0.924256</td>\n",
       "      <td>1.000000</td>\n",
       "    </tr>\n",
       "  </tbody>\n",
       "</table>\n",
       "</div>"
      ],
      "text/plain": [
       "            index        Id     carat       cut     color   clarity     depth  \\\n",
       "index    1.000000  1.000000 -0.004791  0.003620 -0.015818 -0.002308  0.000120   \n",
       "Id       1.000000  1.000000 -0.004791  0.003620 -0.015818 -0.002308  0.000120   \n",
       "carat   -0.004791 -0.004791  1.000000  0.075299  0.258047 -0.214234  0.026540   \n",
       "cut      0.003620  0.003620  0.075299  1.000000  0.006561 -0.011004 -0.146659   \n",
       "color   -0.015818 -0.015818  0.258047  0.006561  1.000000 -0.013422  0.044923   \n",
       "clarity -0.002308 -0.002308 -0.214234 -0.011004 -0.013422  1.000000 -0.037651   \n",
       "depth    0.000120  0.000120  0.026540 -0.146659  0.044923 -0.037651  1.000000   \n",
       "table   -0.003130 -0.003130  0.187167  0.323812  0.016188 -0.078063 -0.252210   \n",
       "price   -0.003709 -0.003709  0.923338  0.059237  0.140857 -0.065860  0.001892   \n",
       "volume  -0.004891 -0.004891  0.998886  0.073413  0.257697 -0.212619  0.012075   \n",
       "\n",
       "            table     price    volume  \n",
       "index   -0.003130 -0.003709 -0.004891  \n",
       "Id      -0.003130 -0.003709 -0.004891  \n",
       "carat    0.187167  0.923338  0.998886  \n",
       "cut      0.323812  0.059237  0.073413  \n",
       "color    0.016188  0.140857  0.257697  \n",
       "clarity -0.078063 -0.065860 -0.212619  \n",
       "depth   -0.252210  0.001892  0.012075  \n",
       "table    1.000000  0.137448  0.174986  \n",
       "price    0.137448  1.000000  0.924256  \n",
       "volume   0.174986  0.924256  1.000000  "
      ]
     },
     "execution_count": 16,
     "metadata": {},
     "output_type": "execute_result"
    }
   ],
   "source": [
    "diamondCopy.corr()"
   ]
  },
  {
   "cell_type": "code",
   "execution_count": 17,
   "id": "0eb1cd24",
   "metadata": {
    "execution": {
     "iopub.execute_input": "2024-06-01T19:22:36.293745Z",
     "iopub.status.busy": "2024-06-01T19:22:36.293368Z",
     "iopub.status.idle": "2024-06-01T19:22:36.925950Z",
     "shell.execute_reply": "2024-06-01T19:22:36.924996Z"
    },
    "papermill": {
     "duration": 0.64492,
     "end_time": "2024-06-01T19:22:36.929011",
     "exception": false,
     "start_time": "2024-06-01T19:22:36.284091",
     "status": "completed"
    },
    "tags": []
   },
   "outputs": [
    {
     "data": {
      "text/plain": [
       "<Axes: >"
      ]
     },
     "execution_count": 17,
     "metadata": {},
     "output_type": "execute_result"
    },
    {
     "data": {
      "image/png": "[encoded data removed]",
      "text/plain": [
       "<Figure size 800x800 with 2 Axes>"
      ]
     },
     "metadata": {},
     "output_type": "display_data"
    }
   ],
   "source": [
    "plt.subplots(figsize=(8,8))\n",
    "sns.heatmap(diamondCopy.corr(), annot=True, cmap='RdBu_r')"
   ]
  },
  {
   "cell_type": "code",
   "execution_count": 18,
   "id": "4a1f8d43",
   "metadata": {
    "execution": {
     "iopub.execute_input": "2024-06-01T19:22:36.950442Z",
     "iopub.status.busy": "2024-06-01T19:22:36.950075Z",
     "iopub.status.idle": "2024-06-01T19:22:36.956495Z",
     "shell.execute_reply": "2024-06-01T19:22:36.955538Z"
    },
    "papermill": {
     "duration": 0.019676,
     "end_time": "2024-06-01T19:22:36.958624",
     "exception": false,
     "start_time": "2024-06-01T19:22:36.938948",
     "status": "completed"
    },
    "tags": []
   },
   "outputs": [],
   "source": [
    "# set the dataset in preparation for splitting\n",
    "x = diamondCopy.drop(['price'], axis = 1 )\n",
    "y = diamondCopy['price']"
   ]
  },
  {
   "cell_type": "code",
   "execution_count": 19,
   "id": "8d26c478",
   "metadata": {
    "execution": {
     "iopub.execute_input": "2024-06-01T19:22:36.979645Z",
     "iopub.status.busy": "2024-06-01T19:22:36.978928Z",
     "iopub.status.idle": "2024-06-01T19:22:36.990120Z",
     "shell.execute_reply": "2024-06-01T19:22:36.989276Z"
    },
    "papermill": {
     "duration": 0.023991,
     "end_time": "2024-06-01T19:22:36.992206",
     "exception": false,
     "start_time": "2024-06-01T19:22:36.968215",
     "status": "completed"
    },
    "tags": []
   },
   "outputs": [],
   "source": [
    "# split the dataset for training and testing\n",
    "x_train, x_test, y_train, y_test = train_test_split(x , y  , test_size = 0.2 , random_state = 42)"
   ]
  },
  {
   "cell_type": "code",
   "execution_count": 20,
   "id": "7917d4cc",
   "metadata": {
    "execution": {
     "iopub.execute_input": "2024-06-01T19:22:37.013684Z",
     "iopub.status.busy": "2024-06-01T19:22:37.012796Z",
     "iopub.status.idle": "2024-06-01T19:22:37.019509Z",
     "shell.execute_reply": "2024-06-01T19:22:37.018308Z"
    },
    "papermill": {
     "duration": 0.019756,
     "end_time": "2024-06-01T19:22:37.021830",
     "exception": false,
     "start_time": "2024-06-01T19:22:37.002074",
     "status": "completed"
    },
    "tags": []
   },
   "outputs": [],
   "source": [
    "# models that we will try it\n",
    "names = [\"Linear Regression\", \"Ridge Regression\", \"Lasso Regression\",\n",
    "         \"Decision Tree Regressor\", \"Random Forest Regressor\", \"Gradient Boosting Regressor\",\n",
    "         \"Adaboost Regressor\", \"BaggingRegressor\", \"ExtraTreesRegressor\",\"XGBRegressor\", \"XGBRFRegressor\"]\n",
    "models = [LinearRegression(), Ridge(), Lasso(), DecisionTreeRegressor(),\n",
    "          RandomForestRegressor(), GradientBoostingRegressor(), \n",
    "          AdaBoostRegressor(), BaggingRegressor(), ExtraTreesRegressor(),XGBRegressor(), XGBRFRegressor()]"
   ]
  },
  {
   "cell_type": "code",
   "execution_count": 21,
   "id": "570a4b73",
   "metadata": {
    "execution": {
     "iopub.execute_input": "2024-06-01T19:22:37.043889Z",
     "iopub.status.busy": "2024-06-01T19:22:37.042984Z",
     "iopub.status.idle": "2024-06-01T19:22:37.047812Z",
     "shell.execute_reply": "2024-06-01T19:22:37.046875Z"
    },
    "papermill": {
     "duration": 0.018114,
     "end_time": "2024-06-01T19:22:37.049940",
     "exception": false,
     "start_time": "2024-06-01T19:22:37.031826",
     "status": "completed"
    },
    "tags": []
   },
   "outputs": [],
   "source": [
    "MAE = []\n",
    "MSE = []\n",
    "RMSE = []\n",
    "R_Square = []\n",
    "CV = []"
   ]
  },
  {
   "cell_type": "code",
   "execution_count": 22,
   "id": "74d97994",
   "metadata": {
    "execution": {
     "iopub.execute_input": "2024-06-01T19:22:37.070959Z",
     "iopub.status.busy": "2024-06-01T19:22:37.070298Z",
     "iopub.status.idle": "2024-06-01T19:22:37.076156Z",
     "shell.execute_reply": "2024-06-01T19:22:37.075193Z"
    },
    "papermill": {
     "duration": 0.018849,
     "end_time": "2024-06-01T19:22:37.078442",
     "exception": false,
     "start_time": "2024-06-01T19:22:37.059593",
     "status": "completed"
    },
    "tags": []
   },
   "outputs": [],
   "source": [
    "# function to print the evaluation\n",
    "def print_evaluate(name, y, model, pred):\n",
    "    mae = metrics.mean_absolute_error(y, pred)\n",
    "    mse = metrics.mean_squared_error(y, pred)\n",
    "    rmse = np.sqrt(metrics.mean_squared_error(y, pred))\n",
    "    r_square = metrics.r2_score(y, pred)\n",
    "    print(\"MAE:\", mae)\n",
    "    print(\"MSE:\", mse)\n",
    "    print(\"RMSE:\", rmse)\n",
    "    print(\"R2 Square\", r_square)"
   ]
  },
  {
   "cell_type": "code",
   "execution_count": 23,
   "id": "d511a1c1",
   "metadata": {
    "execution": {
     "iopub.execute_input": "2024-06-01T19:22:37.099609Z",
     "iopub.status.busy": "2024-06-01T19:22:37.099211Z",
     "iopub.status.idle": "2024-06-01T19:22:37.105557Z",
     "shell.execute_reply": "2024-06-01T19:22:37.104630Z"
    },
    "papermill": {
     "duration": 0.019321,
     "end_time": "2024-06-01T19:22:37.107555",
     "exception": false,
     "start_time": "2024-06-01T19:22:37.088234",
     "status": "completed"
    },
    "tags": []
   },
   "outputs": [],
   "source": [
    "# function to evalute the model that we try it\n",
    "def evaluate(name, y, pred, model):\n",
    "    MAE.append(metrics.mean_absolute_error(y, pred))\n",
    "    MSE.append(metrics.mean_squared_error(y, pred))\n",
    "    RMSE.append(np.sqrt(metrics.mean_squared_error(y, pred)))\n",
    "    R_Square.append(metrics.r2_score(y, pred))\n",
    "    cv_accuracies = cross_val_score(estimator = model, X = x_train, y = y_train.ravel(), cv = 5,verbose = 1)\n",
    "    CV.append(cv_accuracies.mean())\n",
    "    print_evaluate(name, y, model, pred)\n",
    "    "
   ]
  },
  {
   "cell_type": "code",
   "execution_count": 24,
   "id": "e9691c09",
   "metadata": {
    "execution": {
     "iopub.execute_input": "2024-06-01T19:22:37.128208Z",
     "iopub.status.busy": "2024-06-01T19:22:37.127869Z",
     "iopub.status.idle": "2024-06-01T19:22:37.132739Z",
     "shell.execute_reply": "2024-06-01T19:22:37.131773Z"
    },
    "papermill": {
     "duration": 0.017564,
     "end_time": "2024-06-01T19:22:37.134798",
     "exception": false,
     "start_time": "2024-06-01T19:22:37.117234",
     "status": "completed"
    },
    "tags": []
   },
   "outputs": [],
   "source": [
    "# function to predict the result\n",
    "def predict(name, model):\n",
    "    model.fit(x_train, y_train.ravel())\n",
    "    pred = model.predict(x_test)\n",
    "    evaluate(name, y_test, pred, model)"
   ]
  },
  {
   "cell_type": "code",
   "execution_count": 25,
   "id": "6ab20096",
   "metadata": {
    "execution": {
     "iopub.execute_input": "2024-06-01T19:22:37.156862Z",
     "iopub.status.busy": "2024-06-01T19:22:37.156128Z",
     "iopub.status.idle": "2024-06-01T19:25:36.317925Z",
     "shell.execute_reply": "2024-06-01T19:25:36.317110Z"
    },
    "papermill": {
     "duration": 179.175245,
     "end_time": "2024-06-01T19:25:36.320201",
     "exception": false,
     "start_time": "2024-06-01T19:22:37.144956",
     "status": "completed"
    },
    "tags": []
   },
   "outputs": [
    {
     "name": "stderr",
     "output_type": "stream",
     "text": [
      "/tmp/ipykernel_18/2051342522.py:3: FutureWarning: Series.ravel is deprecated. The underlying array is already 1D, so ravel is not necessary.  Use `to_numpy()` for conversion to a numpy array instead.\n",
      "  model.fit(x_train, y_train.ravel())\n",
      "/tmp/ipykernel_18/3909948551.py:7: FutureWarning: Series.ravel is deprecated. The underlying array is already 1D, so ravel is not necessary.  Use `to_numpy()` for conversion to a numpy array instead.\n",
      "  cv_accuracies = cross_val_score(estimator = model, X = x_train, y = y_train.ravel(), cv = 5,verbose = 1)\n",
      "/tmp/ipykernel_18/2051342522.py:3: FutureWarning: Series.ravel is deprecated. The underlying array is already 1D, so ravel is not necessary.  Use `to_numpy()` for conversion to a numpy array instead.\n",
      "  model.fit(x_train, y_train.ravel())\n",
      "/tmp/ipykernel_18/3909948551.py:7: FutureWarning: Series.ravel is deprecated. The underlying array is already 1D, so ravel is not necessary.  Use `to_numpy()` for conversion to a numpy array instead.\n",
      "  cv_accuracies = cross_val_score(estimator = model, X = x_train, y = y_train.ravel(), cv = 5,verbose = 1)\n"
     ]
    },
    {
     "name": "stdout",
     "output_type": "stream",
     "text": [
      "MAE: 645.0273060094701\n",
      "MSE: 874412.2388021386\n",
      "RMSE: 935.1001223409922\n",
      "R2 Square 0.8832704418899685\n",
      "MAE: 644.805326136063\n",
      "MSE: 874034.4667806386\n",
      "RMSE: 934.8981050256966\n",
      "R2 Square 0.8833208725211734\n"
     ]
    },
    {
     "name": "stderr",
     "output_type": "stream",
     "text": [
      "/tmp/ipykernel_18/2051342522.py:3: FutureWarning: Series.ravel is deprecated. The underlying array is already 1D, so ravel is not necessary.  Use `to_numpy()` for conversion to a numpy array instead.\n",
      "  model.fit(x_train, y_train.ravel())\n",
      "/opt/conda/lib/python3.10/site-packages/sklearn/linear_model/_coordinate_descent.py:631: ConvergenceWarning: Objective did not converge. You might want to increase the number of iterations, check the scale of the features or consider increasing regularisation. Duality gap: 8.447e+08, tolerance: 2.277e+07\n",
      "  model = cd_fast.enet_coordinate_descent(\n",
      "/tmp/ipykernel_18/3909948551.py:7: FutureWarning: Series.ravel is deprecated. The underlying array is already 1D, so ravel is not necessary.  Use `to_numpy()` for conversion to a numpy array instead.\n",
      "  cv_accuracies = cross_val_score(estimator = model, X = x_train, y = y_train.ravel(), cv = 5,verbose = 1)\n",
      "/opt/conda/lib/python3.10/site-packages/sklearn/linear_model/_coordinate_descent.py:631: ConvergenceWarning: Objective did not converge. You might want to increase the number of iterations, check the scale of the features or consider increasing regularisation. Duality gap: 3.921e+09, tolerance: 1.827e+07\n",
      "  model = cd_fast.enet_coordinate_descent(\n",
      "/opt/conda/lib/python3.10/site-packages/sklearn/linear_model/_coordinate_descent.py:631: ConvergenceWarning: Objective did not converge. You might want to increase the number of iterations, check the scale of the features or consider increasing regularisation. Duality gap: 4.694e+08, tolerance: 1.821e+07\n",
      "  model = cd_fast.enet_coordinate_descent(\n",
      "/opt/conda/lib/python3.10/site-packages/sklearn/linear_model/_coordinate_descent.py:631: ConvergenceWarning: Objective did not converge. You might want to increase the number of iterations, check the scale of the features or consider increasing regularisation. Duality gap: 1.752e+09, tolerance: 1.822e+07\n",
      "  model = cd_fast.enet_coordinate_descent(\n",
      "/opt/conda/lib/python3.10/site-packages/sklearn/linear_model/_coordinate_descent.py:631: ConvergenceWarning: Objective did not converge. You might want to increase the number of iterations, check the scale of the features or consider increasing regularisation. Duality gap: 8.793e+08, tolerance: 1.825e+07\n",
      "  model = cd_fast.enet_coordinate_descent(\n",
      "/opt/conda/lib/python3.10/site-packages/sklearn/linear_model/_coordinate_descent.py:631: ConvergenceWarning: Objective did not converge. You might want to increase the number of iterations, check the scale of the features or consider increasing regularisation. Duality gap: 8.035e+08, tolerance: 1.814e+07\n",
      "  model = cd_fast.enet_coordinate_descent(\n",
      "/tmp/ipykernel_18/2051342522.py:3: FutureWarning: Series.ravel is deprecated. The underlying array is already 1D, so ravel is not necessary.  Use `to_numpy()` for conversion to a numpy array instead.\n",
      "  model.fit(x_train, y_train.ravel())\n"
     ]
    },
    {
     "name": "stdout",
     "output_type": "stream",
     "text": [
      "MAE: 644.0432701047147\n",
      "MSE: 873415.1680335357\n",
      "RMSE: 934.5668344391083\n",
      "R2 Square 0.8834035457339665\n"
     ]
    },
    {
     "name": "stderr",
     "output_type": "stream",
     "text": [
      "/tmp/ipykernel_18/3909948551.py:7: FutureWarning: Series.ravel is deprecated. The underlying array is already 1D, so ravel is not necessary.  Use `to_numpy()` for conversion to a numpy array instead.\n",
      "  cv_accuracies = cross_val_score(estimator = model, X = x_train, y = y_train.ravel(), cv = 5,verbose = 1)\n"
     ]
    },
    {
     "name": "stdout",
     "output_type": "stream",
     "text": [
      "MAE: 279.2239597137556\n",
      "MSE: 248619.47601378214\n",
      "RMSE: 498.61756488694033\n",
      "R2 Square 0.9668105725368247\n"
     ]
    },
    {
     "name": "stderr",
     "output_type": "stream",
     "text": [
      "/tmp/ipykernel_18/2051342522.py:3: FutureWarning: Series.ravel is deprecated. The underlying array is already 1D, so ravel is not necessary.  Use `to_numpy()` for conversion to a numpy array instead.\n",
      "  model.fit(x_train, y_train.ravel())\n",
      "/tmp/ipykernel_18/3909948551.py:7: FutureWarning: Series.ravel is deprecated. The underlying array is already 1D, so ravel is not necessary.  Use `to_numpy()` for conversion to a numpy array instead.\n",
      "  cv_accuracies = cross_val_score(estimator = model, X = x_train, y = y_train.ravel(), cv = 5,verbose = 1)\n"
     ]
    },
    {
     "name": "stdout",
     "output_type": "stream",
     "text": [
      "MAE: 207.2766379538828\n",
      "MSE: 130840.35969476544\n",
      "RMSE: 361.71861950246\n",
      "R2 Square 0.982533481700748\n"
     ]
    },
    {
     "name": "stderr",
     "output_type": "stream",
     "text": [
      "/tmp/ipykernel_18/2051342522.py:3: FutureWarning: Series.ravel is deprecated. The underlying array is already 1D, so ravel is not necessary.  Use `to_numpy()` for conversion to a numpy array instead.\n",
      "  model.fit(x_train, y_train.ravel())\n",
      "/tmp/ipykernel_18/3909948551.py:7: FutureWarning: Series.ravel is deprecated. The underlying array is already 1D, so ravel is not necessary.  Use `to_numpy()` for conversion to a numpy array instead.\n",
      "  cv_accuracies = cross_val_score(estimator = model, X = x_train, y = y_train.ravel(), cv = 5,verbose = 1)\n"
     ]
    },
    {
     "name": "stdout",
     "output_type": "stream",
     "text": [
      "MAE: 258.6152895445543\n",
      "MSE: 190502.90721517973\n",
      "RMSE: 436.4663872684582\n",
      "R2 Square 0.9745688369957318\n"
     ]
    },
    {
     "name": "stderr",
     "output_type": "stream",
     "text": [
      "/tmp/ipykernel_18/2051342522.py:3: FutureWarning: Series.ravel is deprecated. The underlying array is already 1D, so ravel is not necessary.  Use `to_numpy()` for conversion to a numpy array instead.\n",
      "  model.fit(x_train, y_train.ravel())\n",
      "/tmp/ipykernel_18/3909948551.py:7: FutureWarning: Series.ravel is deprecated. The underlying array is already 1D, so ravel is not necessary.  Use `to_numpy()` for conversion to a numpy array instead.\n",
      "  cv_accuracies = cross_val_score(estimator = model, X = x_train, y = y_train.ravel(), cv = 5,verbose = 1)\n"
     ]
    },
    {
     "name": "stdout",
     "output_type": "stream",
     "text": [
      "MAE: 620.9747307520191\n",
      "MSE: 703108.5252798626\n",
      "RMSE: 838.5156678797734\n",
      "R2 Square 0.9061386108093052\n"
     ]
    },
    {
     "name": "stderr",
     "output_type": "stream",
     "text": [
      "/tmp/ipykernel_18/2051342522.py:3: FutureWarning: Series.ravel is deprecated. The underlying array is already 1D, so ravel is not necessary.  Use `to_numpy()` for conversion to a numpy array instead.\n",
      "  model.fit(x_train, y_train.ravel())\n",
      "/tmp/ipykernel_18/3909948551.py:7: FutureWarning: Series.ravel is deprecated. The underlying array is already 1D, so ravel is not necessary.  Use `to_numpy()` for conversion to a numpy array instead.\n",
      "  cv_accuracies = cross_val_score(estimator = model, X = x_train, y = y_train.ravel(), cv = 5,verbose = 1)\n"
     ]
    },
    {
     "name": "stdout",
     "output_type": "stream",
     "text": [
      "MAE: 218.13384574609066\n",
      "MSE: 143611.7435515505\n",
      "RMSE: 378.9614011367787\n",
      "R2 Square 0.9808285673275247\n"
     ]
    },
    {
     "name": "stderr",
     "output_type": "stream",
     "text": [
      "/tmp/ipykernel_18/2051342522.py:3: FutureWarning: Series.ravel is deprecated. The underlying array is already 1D, so ravel is not necessary.  Use `to_numpy()` for conversion to a numpy array instead.\n",
      "  model.fit(x_train, y_train.ravel())\n",
      "/tmp/ipykernel_18/3909948551.py:7: FutureWarning: Series.ravel is deprecated. The underlying array is already 1D, so ravel is not necessary.  Use `to_numpy()` for conversion to a numpy array instead.\n",
      "  cv_accuracies = cross_val_score(estimator = model, X = x_train, y = y_train.ravel(), cv = 5,verbose = 1)\n"
     ]
    },
    {
     "name": "stdout",
     "output_type": "stream",
     "text": [
      "MAE: 205.4425152398622\n",
      "MSE: 127759.27077336337\n",
      "RMSE: 357.43428874880397\n",
      "R2 Square 0.9829447913008807\n"
     ]
    },
    {
     "name": "stderr",
     "output_type": "stream",
     "text": [
      "/tmp/ipykernel_18/2051342522.py:3: FutureWarning: Series.ravel is deprecated. The underlying array is already 1D, so ravel is not necessary.  Use `to_numpy()` for conversion to a numpy array instead.\n",
      "  model.fit(x_train, y_train.ravel())\n",
      "/tmp/ipykernel_18/3909948551.py:7: FutureWarning: Series.ravel is deprecated. The underlying array is already 1D, so ravel is not necessary.  Use `to_numpy()` for conversion to a numpy array instead.\n",
      "  cv_accuracies = cross_val_score(estimator = model, X = x_train, y = y_train.ravel(), cv = 5,verbose = 1)\n"
     ]
    },
    {
     "name": "stdout",
     "output_type": "stream",
     "text": [
      "MAE: 203.0552815453241\n",
      "MSE: 124635.18103394684\n",
      "RMSE: 353.0370816698252\n",
      "R2 Square 0.9833618412901144\n"
     ]
    },
    {
     "name": "stderr",
     "output_type": "stream",
     "text": [
      "/tmp/ipykernel_18/2051342522.py:3: FutureWarning: Series.ravel is deprecated. The underlying array is already 1D, so ravel is not necessary.  Use `to_numpy()` for conversion to a numpy array instead.\n",
      "  model.fit(x_train, y_train.ravel())\n",
      "/tmp/ipykernel_18/3909948551.py:7: FutureWarning: Series.ravel is deprecated. The underlying array is already 1D, so ravel is not necessary.  Use `to_numpy()` for conversion to a numpy array instead.\n",
      "  cv_accuracies = cross_val_score(estimator = model, X = x_train, y = y_train.ravel(), cv = 5,verbose = 1)\n"
     ]
    },
    {
     "name": "stdout",
     "output_type": "stream",
     "text": [
      "MAE: 351.2356624244348\n",
      "MSE: 362473.16675112554\n",
      "RMSE: 602.0574447269342\n",
      "R2 Square 0.9516116875953553\n"
     ]
    }
   ],
   "source": [
    "for name, model in zip(names, models):\n",
    "    predict(name, model)"
   ]
  },
  {
   "cell_type": "code",
   "execution_count": 26,
   "id": "8dbeefc3",
   "metadata": {
    "execution": {
     "iopub.execute_input": "2024-06-01T19:25:36.345977Z",
     "iopub.status.busy": "2024-06-01T19:25:36.345610Z",
     "iopub.status.idle": "2024-06-01T19:25:36.351778Z",
     "shell.execute_reply": "2024-06-01T19:25:36.350698Z"
    },
    "papermill": {
     "duration": 0.021255,
     "end_time": "2024-06-01T19:25:36.353817",
     "exception": false,
     "start_time": "2024-06-01T19:25:36.332562",
     "status": "completed"
    },
    "tags": []
   },
   "outputs": [],
   "source": [
    "evaluation = pd.DataFrame({\"Model\": names,\n",
    "                           \"MAE\": MAE,\n",
    "                           \"MSE\": MSE,\n",
    "                           \"RMSE\": RMSE,\n",
    "                           \"R2 Squared\": R_Square,\n",
    "                           \"Cross Validation\": CV})"
   ]
  },
  {
   "cell_type": "code",
   "execution_count": 27,
   "id": "6b6d06ef",
   "metadata": {
    "execution": {
     "iopub.execute_input": "2024-06-01T19:25:36.379865Z",
     "iopub.status.busy": "2024-06-01T19:25:36.378895Z",
     "iopub.status.idle": "2024-06-01T19:25:36.384655Z",
     "shell.execute_reply": "2024-06-01T19:25:36.383665Z"
    },
    "papermill": {
     "duration": 0.020959,
     "end_time": "2024-06-01T19:25:36.386746",
     "exception": false,
     "start_time": "2024-06-01T19:25:36.365787",
     "status": "completed"
    },
    "tags": []
   },
   "outputs": [],
   "source": [
    "evaluation = evaluation.sort_values(\"R2 Squared\")"
   ]
  },
  {
   "cell_type": "code",
   "execution_count": 28,
   "id": "ab5826c9",
   "metadata": {
    "execution": {
     "iopub.execute_input": "2024-06-01T19:25:36.412201Z",
     "iopub.status.busy": "2024-06-01T19:25:36.411425Z",
     "iopub.status.idle": "2024-06-01T19:25:36.424956Z",
     "shell.execute_reply": "2024-06-01T19:25:36.423977Z"
    },
    "papermill": {
     "duration": 0.028523,
     "end_time": "2024-06-01T19:25:36.427050",
     "exception": false,
     "start_time": "2024-06-01T19:25:36.398527",
     "status": "completed"
    },
    "tags": []
   },
   "outputs": [
    {
     "data": {
      "text/html": [
       "<div>\n",
       "<style scoped>\n",
       "    .dataframe tbody tr th:only-of-type {\n",
       "        vertical-align: middle;\n",
       "    }\n",
       "\n",
       "    .dataframe tbody tr th {\n",
       "        vertical-align: top;\n",
       "    }\n",
       "\n",
       "    .dataframe thead th {\n",
       "        text-align: right;\n",
       "    }\n",
       "</style>\n",
       "<table border=\"1\" class=\"dataframe\">\n",
       "  <thead>\n",
       "    <tr style=\"text-align: right;\">\n",
       "      <th></th>\n",
       "      <th>Model</th>\n",
       "      <th>MAE</th>\n",
       "      <th>MSE</th>\n",
       "      <th>RMSE</th>\n",
       "      <th>R2 Squared</th>\n",
       "      <th>Cross Validation</th>\n",
       "    </tr>\n",
       "  </thead>\n",
       "  <tbody>\n",
       "    <tr>\n",
       "      <th>0</th>\n",
       "      <td>Linear Regression</td>\n",
       "      <td>645.027306</td>\n",
       "      <td>874412.238802</td>\n",
       "      <td>935.100122</td>\n",
       "      <td>0.883270</td>\n",
       "      <td>0.884561</td>\n",
       "    </tr>\n",
       "    <tr>\n",
       "      <th>1</th>\n",
       "      <td>Ridge Regression</td>\n",
       "      <td>644.805326</td>\n",
       "      <td>874034.466781</td>\n",
       "      <td>934.898105</td>\n",
       "      <td>0.883321</td>\n",
       "      <td>0.884553</td>\n",
       "    </tr>\n",
       "    <tr>\n",
       "      <th>2</th>\n",
       "      <td>Lasso Regression</td>\n",
       "      <td>644.043270</td>\n",
       "      <td>873415.168034</td>\n",
       "      <td>934.566834</td>\n",
       "      <td>0.883404</td>\n",
       "      <td>0.884256</td>\n",
       "    </tr>\n",
       "    <tr>\n",
       "      <th>6</th>\n",
       "      <td>Adaboost Regressor</td>\n",
       "      <td>620.974731</td>\n",
       "      <td>703108.525280</td>\n",
       "      <td>838.515668</td>\n",
       "      <td>0.906139</td>\n",
       "      <td>0.897103</td>\n",
       "    </tr>\n",
       "    <tr>\n",
       "      <th>10</th>\n",
       "      <td>XGBRFRegressor</td>\n",
       "      <td>351.235662</td>\n",
       "      <td>362473.166751</td>\n",
       "      <td>602.057445</td>\n",
       "      <td>0.951612</td>\n",
       "      <td>0.952409</td>\n",
       "    </tr>\n",
       "    <tr>\n",
       "      <th>3</th>\n",
       "      <td>Decision Tree Regressor</td>\n",
       "      <td>279.223960</td>\n",
       "      <td>248619.476014</td>\n",
       "      <td>498.617565</td>\n",
       "      <td>0.966811</td>\n",
       "      <td>0.963972</td>\n",
       "    </tr>\n",
       "    <tr>\n",
       "      <th>5</th>\n",
       "      <td>Gradient Boosting Regressor</td>\n",
       "      <td>258.615290</td>\n",
       "      <td>190502.907215</td>\n",
       "      <td>436.466387</td>\n",
       "      <td>0.974569</td>\n",
       "      <td>0.973686</td>\n",
       "    </tr>\n",
       "    <tr>\n",
       "      <th>7</th>\n",
       "      <td>BaggingRegressor</td>\n",
       "      <td>218.133846</td>\n",
       "      <td>143611.743552</td>\n",
       "      <td>378.961401</td>\n",
       "      <td>0.980829</td>\n",
       "      <td>0.979158</td>\n",
       "    </tr>\n",
       "    <tr>\n",
       "      <th>4</th>\n",
       "      <td>Random Forest Regressor</td>\n",
       "      <td>207.276638</td>\n",
       "      <td>130840.359695</td>\n",
       "      <td>361.718620</td>\n",
       "      <td>0.982533</td>\n",
       "      <td>0.981026</td>\n",
       "    </tr>\n",
       "    <tr>\n",
       "      <th>8</th>\n",
       "      <td>ExtraTreesRegressor</td>\n",
       "      <td>205.442515</td>\n",
       "      <td>127759.270773</td>\n",
       "      <td>357.434289</td>\n",
       "      <td>0.982945</td>\n",
       "      <td>0.981306</td>\n",
       "    </tr>\n",
       "    <tr>\n",
       "      <th>9</th>\n",
       "      <td>XGBRegressor</td>\n",
       "      <td>203.055282</td>\n",
       "      <td>124635.181034</td>\n",
       "      <td>353.037082</td>\n",
       "      <td>0.983362</td>\n",
       "      <td>0.982005</td>\n",
       "    </tr>\n",
       "  </tbody>\n",
       "</table>\n",
       "</div>"
      ],
      "text/plain": [
       "                          Model         MAE            MSE        RMSE  \\\n",
       "0             Linear Regression  645.027306  874412.238802  935.100122   \n",
       "1              Ridge Regression  644.805326  874034.466781  934.898105   \n",
       "2              Lasso Regression  644.043270  873415.168034  934.566834   \n",
       "6            Adaboost Regressor  620.974731  703108.525280  838.515668   \n",
       "10               XGBRFRegressor  351.235662  362473.166751  602.057445   \n",
       "3       Decision Tree Regressor  279.223960  248619.476014  498.617565   \n",
       "5   Gradient Boosting Regressor  258.615290  190502.907215  436.466387   \n",
       "7              BaggingRegressor  218.133846  143611.743552  378.961401   \n",
       "4       Random Forest Regressor  207.276638  130840.359695  361.718620   \n",
       "8           ExtraTreesRegressor  205.442515  127759.270773  357.434289   \n",
       "9                  XGBRegressor  203.055282  124635.181034  353.037082   \n",
       "\n",
       "    R2 Squared  Cross Validation  \n",
       "0     0.883270          0.884561  \n",
       "1     0.883321          0.884553  \n",
       "2     0.883404          0.884256  \n",
       "6     0.906139          0.897103  \n",
       "10    0.951612          0.952409  \n",
       "3     0.966811          0.963972  \n",
       "5     0.974569          0.973686  \n",
       "7     0.980829          0.979158  \n",
       "4     0.982533          0.981026  \n",
       "8     0.982945          0.981306  \n",
       "9     0.983362          0.982005  "
      ]
     },
     "execution_count": 28,
     "metadata": {},
     "output_type": "execute_result"
    }
   ],
   "source": [
    "evaluation"
   ]
  },
  {
   "cell_type": "code",
   "execution_count": null,
   "id": "cff99650",
   "metadata": {
    "papermill": {
     "duration": 0.01177,
     "end_time": "2024-06-01T19:25:36.450921",
     "exception": false,
     "start_time": "2024-06-01T19:25:36.439151",
     "status": "completed"
    },
    "tags": []
   },
   "outputs": [],
   "source": []
  }
 ],
 "metadata": {
  "kaggle": {
   "accelerator": "none",
   "dataSources": [
    {
     "datasetId": 4980352,
     "sourceId": 8376071,
     "sourceType": "datasetVersion"
    }
   ],
   "dockerImageVersionId": 30698,
   "isGpuEnabled": false,
   "isInternetEnabled": true,
   "language": "python",
   "sourceType": "notebook"
  },
  "kernelspec": {
   "display_name": "Python 3",
   "language": "python",
   "name": "python3"
  },
  "language_info": {
   "codemirror_mode": {
    "name": "ipython",
    "version": 3
   },
   "file_extension": ".py",
   "mimetype": "text/x-python",
   "name": "python",
   "nbconvert_exporter": "python",
   "pygments_lexer": "ipython3",
   "version": "3.10.13"
  },
  "papermill": {
   "default_parameters": {},
   "duration": 186.852009,
   "end_time": "2024-06-01T19:25:37.083093",
   "environment_variables": {},
   "exception": null,
   "input_path": "__notebook__.ipynb",
   "output_path": "__notebook__.ipynb",
   "parameters": {},
   "start_time": "2024-06-01T19:22:30.231084",
   "version": "2.5.0"
  }
 },
 "nbformat": 4,
 "nbformat_minor": 5
}
